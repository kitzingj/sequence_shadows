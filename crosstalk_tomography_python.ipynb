{
 "cells": [
  {
   "cell_type": "code",
   "execution_count": 26,
   "id": "38b1594d-cd09-4cc8-8af1-bb603cec8306",
   "metadata": {},
   "outputs": [],
   "source": [
    "from Python.core_functions import *\n",
    "\n",
    "import itertools\n",
    "import numpy as np\n",
    "\n",
    "from qiskit import quantum_info as qi\n",
    "from qiskit.providers.aer.noise import NoiseModel\n",
    "from qiskit.providers.aer.noise.errors.standard_errors import depolarizing_error\n",
    "from scipy.linalg import expm"
   ]
  },
  {
   "cell_type": "markdown",
   "id": "009f0d7e-8fb6-47eb-8bf6-2c288e0ca949",
   "metadata": {},
   "source": [
    "# 1. Circuit Construction and Noisy Simulation"
   ]
  },
  {
   "cell_type": "markdown",
   "id": "c592fa28",
   "metadata": {},
   "source": [
    "## 1.1 Draw Sequences, Construct Circuits"
   ]
  },
  {
   "cell_type": "code",
   "execution_count": 16,
   "id": "471891d7-e8d3-4e6b-a88e-78ca0e702047",
   "metadata": {},
   "outputs": [
    {
     "name": "stdout",
     "output_type": "stream",
     "text": [
      "18:51:31\n",
      "done generating sequences\n",
      "19:22:23\n",
      "done constructing circuits\n"
     ]
    }
   ],
   "source": [
    "# even 10.000 samples didn't seem to be enough for a good reconstruction accuray in the 11 block. So: more samples! \n",
    "\n",
    "# parameters\n",
    "lengths = [1, 2, 3, 4, 5, 6, 7, 8, 9, 10]\n",
    "number_qubits = 2\n",
    "number_samples = 15000\n",
    "\n",
    "# random sequence generation\n",
    "crosstalk_sequences = draw_sequences(number_qubits, 'local', lengths, number_samples)\n",
    "\n",
    "# construct circuits\n",
    "crosstalk_circuits = construct_circuits(crosstalk_sequences, number_qubits)\n",
    "\n",
    "# construct PTMs\n",
    "ptms = get_ptms(crosstalk_sequences)\n",
    "\n",
    "# optional: save sequences and sparse PTMs\n",
    "\n",
    "# with open('crosstalk_sequences', 'wb') as fp:\n",
    "#     pickle.dump(crosstalk_sequences, fp)\n",
    "\n",
    "# sparse_ptms = array_to_sparse(ptms)\n",
    "# with open('crosstalk_ptms', 'wb') as fp:\n",
    "#     pickle.dump(sparse_ptms, fp)"
   ]
  },
  {
   "cell_type": "markdown",
   "id": "11472df7",
   "metadata": {},
   "source": [
    "## 1.2 Insert Crosstalk"
   ]
  },
  {
   "cell_type": "code",
   "execution_count": 19,
   "id": "067216b8-fa5c-47a7-b6eb-30c95afed7b5",
   "metadata": {},
   "outputs": [],
   "source": [
    "# define XX and ZZ crosstalk\n",
    "pauli_x = np.array([[0., 1.], [1., 0.]])\n",
    "pauli_z = np.array([[1., 0.], [0., -1.]])\n",
    "\n",
    "eps = 0.4\n",
    "xx_array = expm(-1j/2 * eps * np.kron(pauli_x, pauli_x))\n",
    "zz_array = expm(-1j/2 * eps * np.kron(pauli_z, pauli_z))\n",
    "\n",
    "zz_gate = custom_unitary(crosstalk_circuits[0][0], zz_array, \"zz\")\n",
    "xx_gate = custom_unitary(crosstalk_circuits[0][0], xx_array, \"xx\")\n",
    "\n",
    "\n",
    "# insert the crosstalk into the circuits\n",
    "zz_circs = []\n",
    "xx_circs = []\n",
    "\n",
    "for length in range(len(crosstalk_circuits)):\n",
    "    new_circs_zz = []\n",
    "    new_circs_xx = []\n",
    "\n",
    "    for rep in range(len(crosstalk_circuits[length])):\n",
    "        circ_zz = insert_error(crosstalk_circuits[length][rep], zz_gate)\n",
    "        circ_xx = insert_error(crosstalk_circuits[length][rep], xx_gate)\n",
    "        \n",
    "        new_circs_zz.append(circ_zz)\n",
    "        new_circs_xx.append(circ_xx)\n",
    "\n",
    "    zz_circs.append(new_circs_zz)\n",
    "    xx_circs.append(new_circs_xx)"
   ]
  },
  {
   "cell_type": "markdown",
   "id": "37e98237",
   "metadata": {},
   "source": [
    "## 1.3 Noisy Simulation"
   ]
  },
  {
   "cell_type": "code",
   "execution_count": 27,
   "id": "ce12da66-6c51-405e-9917-f205c46abb0d",
   "metadata": {},
   "outputs": [
    {
     "name": "stdout",
     "output_type": "stream",
     "text": [
      "20:38:31\n",
      "starting probs_zz\n",
      "01:14:58\n",
      "done with probs_zz\n"
     ]
    }
   ],
   "source": [
    "# create noise model\n",
    "custom_noise = NoiseModel()\n",
    "\n",
    "p_single = 0.002\n",
    "\n",
    "custom_noise.add_all_qubit_quantum_error(depolarizing_error(p_single, 1), ['rx', 'ry', 'rz'])\n",
    "\n",
    "native_gates = ['rx', 'ry', 'rz', 'cx']\n",
    "\n",
    "noisy_data_zz_crosstalk = noisy_simulation(zz_circs, number_qubits, 1000, number_samples, lengths, noise_model=custom_noise, gateset=native_gates)\n",
    "\n",
    "with open('noisy_data_zz_crosstalk.npy', 'wb') as f:\n",
    "    np.save(f, noisy_data_zz_crosstalk)\n",
    "\n",
    "noisy_data_xx_crosstalk = noisy_simulation(xx_circs, number_qubits, 1000, number_samples, lengths, noise_model=custom_noise, gateset=native_gates)\n",
    "\n",
    "with open('noisy_data_xx_crosstalk.npy', 'wb') as f:\n",
    "    np.save(f, noisy_data_xx_crosstalk)"
   ]
  },
  {
   "cell_type": "markdown",
   "id": "64532b44-077a-4560-aa51-2ebcf4e54c84",
   "metadata": {},
   "source": [
    "# 2. Post-processing\n",
    "\n",
    "\n",
    "The following blocks reconstruct the PTMs from estimated decay rates and plot the reconstruction as well as the crosstalk characterization matrices $\\Lambda_{11} - \\Lambda_{10} \\otimes \\Lambda_{01}$.\n",
    "\n",
    "Note: the actual estimation of decay rates is performed in the Julia notebook \"crosstalk_tomography_julia.ipynb\". For convenience, the results for ZZ and XX crosstalk are provided in the \"data\" subfolder."
   ]
  },
  {
   "cell_type": "markdown",
   "id": "2a85e168-38ce-4e1d-a08f-5211ad855dd9",
   "metadata": {},
   "source": [
    "## 2.1 XX crosstalk"
   ]
  },
  {
   "cell_type": "code",
   "execution_count": 28,
   "id": "d50a73e1-7b2b-42ed-952f-cac5b20fca25",
   "metadata": {},
   "outputs": [],
   "source": [
    "# import the decay rates calculated with the Julia implementation:\n",
    "xx01 = np.load(\"data/xx01.npz\")\n",
    "xx10 = np.load(\"data/xx10.npz\")\n",
    "xx11 = np.load(\"data/xx11.npz\")"
   ]
  },
  {
   "cell_type": "code",
   "execution_count": 148,
   "id": "36c5a39a-963a-4bad-b70e-213c3d3ee13c",
   "metadata": {},
   "outputs": [
    {
     "data": {
      "image/png": "[encoded data removed]",
      "text/plain": [
       "<Figure size 432x288 with 2 Axes>"
      ]
     },
     "metadata": {
      "needs_background": "light"
     },
     "output_type": "display_data"
    }
   ],
   "source": [
    "# reconstruct and plot the PTM of the pinched marginal:\n",
    "\n",
    "two_qubit_cliffords = get_two_qubit_cliffords()\n",
    "xx_reconstruction = reconstruct_channel(two_qubit_cliffords, xx01, xx10, xx11)\n",
    "\n",
    "plot_ptm(xx_reconstruction, save=True, filename=\"crosstalk_tomography_xx_reconstruction.svg\")"
   ]
  },
  {
   "cell_type": "code",
   "execution_count": 153,
   "id": "249cc072-6b10-44f0-bcd6-80cc7ae7478b",
   "metadata": {},
   "outputs": [
    {
     "data": {
      "image/png": "[encoded data removed]",
      "text/plain": [
       "<Figure size 432x288 with 2 Axes>"
      ]
     },
     "metadata": {
      "needs_background": "light"
     },
     "output_type": "display_data"
    }
   ],
   "source": [
    "# plot the difference between the 11 block and the 10x01 tensor product:\n",
    "\n",
    "plot_diff(xx_reconstruction, save=True, filename=\"crosstalk_tomography_xx_diff.svg\")"
   ]
  },
  {
   "cell_type": "code",
   "execution_count": 123,
   "id": "194b7576-356b-4e77-8874-5e2e3b89ab12",
   "metadata": {},
   "outputs": [
    {
     "data": {
      "image/png": "[encoded data removed]",
      "text/plain": [
       "<Figure size 360x360 with 2 Axes>"
      ]
     },
     "metadata": {
      "needs_background": "light"
     },
     "output_type": "display_data"
    }
   ],
   "source": [
    "# for comparison: plot the difference between the identity and the product of the 11 subblock with the inverse of the 10x01 tensor product \n",
    "\n",
    "xx_sub01, xx_sub10, xx_tensorprod, xx_sub11 = get_ptm_subblocks(xx_reconstruction)\n",
    "\n",
    "fig, ax = plt.subplots(1, 1, figsize=(5,5))\n",
    "\n",
    "im = ax.imshow(xx_sub11 @ np.linalg.inv(xx_tensorprod) - np.identity(9), cmap=\"RdBu\", vmin=-0.5, vmax=0.5)\n",
    "labels = [''.join(x) for x in itertools.product('XYZ', repeat=2)]\n",
    "cb = plt.colorbar(im, ax=ax, ticks=[-0.5, -0.25, 0, 0.25, 0.5])\n",
    "ax.set_xticks(range(9))\n",
    "ax.set_yticks(range(9))\n",
    "ax.set_xticklabels(labels, rotation=45)\n",
    "ax.set_yticklabels(labels)\n",
    "plt.savefig(\"xx_diff.svg\")\n",
    "plt.show()"
   ]
  },
  {
   "cell_type": "markdown",
   "id": "6aafd50c-e08e-4a24-82d6-8ee64228bd5c",
   "metadata": {},
   "source": [
    "## 2.2 ZZ crosstalk"
   ]
  },
  {
   "cell_type": "code",
   "execution_count": 70,
   "id": "da3e9e3d-23c4-47d1-854e-2717c18614d1",
   "metadata": {},
   "outputs": [],
   "source": [
    "# read in decay rates:\n",
    "zz01 = np.load(\"data/zz01.npz\")\n",
    "zz10 = np.load(\"data/zz10.npz\")\n",
    "zz11 = np.load(\"data/zz11.npz\")"
   ]
  },
  {
   "cell_type": "code",
   "execution_count": 146,
   "id": "2cb2ce3f-7d96-433d-ad4c-da408d883f75",
   "metadata": {},
   "outputs": [
    {
     "data": {
      "image/png": "[encoded data removed]",
      "text/plain": [
       "<Figure size 432x288 with 2 Axes>"
      ]
     },
     "metadata": {
      "needs_background": "light"
     },
     "output_type": "display_data"
    }
   ],
   "source": [
    "# reconstruct and plot the PTM of the pinched marginal:\n",
    "\n",
    "zz_reconstruction = reconstruct_channel(two_qubit_cliffords, zz01, zz10, zz11)\n",
    "plot_ptm(zz_reconstruction, save=True, filename=\"crosstalk_tomography_zz_reconstruction.svg\")"
   ]
  },
  {
   "cell_type": "code",
   "execution_count": 152,
   "id": "08203484-5671-479d-a89f-131549aea2cf",
   "metadata": {},
   "outputs": [
    {
     "data": {
      "image/png": "[encoded data removed]",
      "text/plain": [
       "<Figure size 432x288 with 2 Axes>"
      ]
     },
     "metadata": {
      "needs_background": "light"
     },
     "output_type": "display_data"
    }
   ],
   "source": [
    "# plot the difference between the 11 block and the 10x01 tensor product:\n",
    "\n",
    "plot_diff(zz_reconstruction, save=True, filename=\"crosstalk_tomography_zz_diff.svg\")"
   ]
  },
  {
   "cell_type": "code",
   "execution_count": 119,
   "id": "3901f65e-7400-4509-99d3-a46214e57703",
   "metadata": {},
   "outputs": [
    {
     "data": {
      "image/png": "[encoded data removed]",
      "text/plain": [
       "<Figure size 360x360 with 2 Axes>"
      ]
     },
     "metadata": {
      "needs_background": "light"
     },
     "output_type": "display_data"
    }
   ],
   "source": [
    "# for comparison: plot the difference between the identity and the product of the 11 subblock with the inverse of the 10x01 tensor product \n",
    "\n",
    "zz_sub01, zz_sub10, zz_tensorprod, zz_sub11 = get_ptm_subblocks(zz_reconstruction)\n",
    "\n",
    "fig, ax = plt.subplots(1, 1, figsize=(5,5))\n",
    "\n",
    "im = ax.imshow(zz_sub11 @ np.linalg.inv(zz_tensorprod) - np.identity(9), cmap=\"RdBu\", vmin=-0.5, vmax=0.5)\n",
    "labels = [''.join(x) for x in itertools.product('XYZ', repeat=2)]\n",
    "cb = plt.colorbar(im, ax=ax, ticks=[-0.5, -0.25, 0, 0.25, 0.5])\n",
    "ax.set_xticks(range(9))\n",
    "ax.set_yticks(range(9))\n",
    "ax.set_xticklabels(labels, rotation=45)\n",
    "ax.set_yticklabels(labels)\n",
    "plt.savefig(\"zz_diff.svg\")\n",
    "plt.show()"
   ]
  }
 ],
 "metadata": {
  "kernelspec": {
   "display_name": "Python 3 (ipykernel)",
   "language": "python",
   "name": "python3"
  },
  "language_info": {
   "codemirror_mode": {
    "name": "ipython",
    "version": 3
   },
   "file_extension": ".py",
   "mimetype": "text/x-python",
   "name": "python",
   "nbconvert_exporter": "python",
   "pygments_lexer": "ipython3",
   "version": "3.9.12"
  }
 },
 "nbformat": 4,
 "nbformat_minor": 5
}
