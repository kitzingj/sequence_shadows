{
 "cells": [
  {
   "cell_type": "code",
   "execution_count": 1,
   "id": "c43a7d09-62e0-46a8-a540-55649b5bf006",
   "metadata": {},
   "outputs": [],
   "source": [
    "from Python.core_functions import *\n",
    "\n",
    "import numpy as np\n",
    "import pickle\n",
    "\n",
    "from qiskit import quantum_info as qi\n",
    "from qiskit.providers.aer.noise import NoiseModel\n",
    "from qiskit.providers.aer.noise.errors.standard_errors import depolarizing_error"
   ]
  },
  {
   "cell_type": "markdown",
   "id": "18cdb73b",
   "metadata": {},
   "source": [
    "# 1. Preparation of Random Sequences"
   ]
  },
  {
   "cell_type": "code",
   "execution_count": 2,
   "id": "7ed48501-39cc-4710-a7eb-d845a1f23986",
   "metadata": {},
   "outputs": [],
   "source": [
    "# parameter definitions:\n",
    "lengths = [1, 5, 10, 15, 25, 50]  # circuit lenghts \n",
    "number_qubits = 2  # number of qubits in the system\n",
    "number_samples = 1000  # number of sampled sequences per length\n",
    "protocol = 'multi'  # 'multi' for global Cliffords, 'local' for single-qubit Cliffords"
   ]
  },
  {
   "cell_type": "code",
   "execution_count": 13,
   "id": "526673bd-3aa8-4c4f-aca4-39f6cec93c61",
   "metadata": {},
   "outputs": [],
   "source": [
    "# draw random sequences of Clifford gates:\n",
    "sequences = draw_sequences(number_qubits, protocol, lengths, number_samples)\n",
    "\n",
    "# construct circuits from the random sequences:\n",
    "circuits = construct_circuits(sequences, number_qubits)\n",
    "\n",
    "# construct PTMs of the Clifford gates for later post-processing:\n",
    "ptms = get_ptms(sequences)"
   ]
  },
  {
   "cell_type": "code",
   "execution_count": 14,
   "id": "73ccd892-cc9f-45fc-9354-9319a0f7f5fe",
   "metadata": {},
   "outputs": [],
   "source": [
    "# optional: save the circuits and PTMs for later use and reproducibility\n",
    "\n",
    "# save circuits:\n",
    "with open('unitary_noise_circuits', 'wb') as fp:\n",
    "    pickle.dump(circuits, fp)\n",
    "    \n",
    "\n",
    "# convert PTMs to sparse arrays and save:\n",
    "sparse_ptms = array_to_sparse(ptms)\n",
    "\n",
    "with open('unitary_noise_ptms', 'wb') as fp:\n",
    "    pickle.dump(sparse_ptms, fp)\n",
    "\n",
    "\n",
    "# if circuits and PTMs have been saved this way, this is how to retrieve them:\n",
    "\n",
    "# with open('unitary_noise_circuits', 'rb') as fp:\n",
    "#     circuits = pickle.load(fp)\n",
    "    \n",
    "# with open('unitary_noise_ptms', 'rb') as fp:\n",
    "#     sparse_ptms = pickle.load(fp)\n",
    "    \n",
    "# ptms = sparse_to_array(sparse_ptms)"
   ]
  },
  {
   "cell_type": "markdown",
   "id": "3355dc5c",
   "metadata": {},
   "source": [
    "# 2. Insertion of Unitary Noise"
   ]
  },
  {
   "cell_type": "code",
   "execution_count": 4,
   "id": "007be576-e3e0-4885-ad47-a8ead74536d6",
   "metadata": {},
   "outputs": [],
   "source": [
    "# define the unitary noise. Here: independent ZZ rotations\n",
    "def ZZ(theta1, theta2):\n",
    "    \n",
    "    unitary_noise = np.array([[np.exp(1j/2*(-theta2 - theta1)), 0, 0, 0],\n",
    "            [0, np.exp(1j/2*(-theta2 + theta1)), 0, 0],\n",
    "            [0, 0, np.exp(1j/2*(theta2 - theta1)), 0],\n",
    "            [0, 0, 0, np.exp(1j/2*(theta2 + theta1))]])\n",
    "    \n",
    "    return unitary_noise\n",
    "\n",
    "\n",
    "# choose angles:\n",
    "theta1 = 0.07\n",
    "theta2 = 0.13\n",
    "\n",
    "# create a gate that can be inserted into the Qiskit circuits:\n",
    "noisegate = custom_unitary(circuits[0][0], qi.Operator(ZZ(theta1, theta2)), \"ZZ\")\n",
    "\n",
    "# insert the unitary noise into the circuits:\n",
    "noisy_circuits = []\n",
    "\n",
    "for length in range(len(circuits)):\n",
    "    new_circs = []\n",
    "\n",
    "    for rep in range(len(circuits[length])):\n",
    "        new_circ = insert_error(circuits[length][rep], noisegate)\n",
    "        new_circs.append(new_circ)\n",
    "\n",
    "    noisy_circuits.append(new_circs)"
   ]
  },
  {
   "cell_type": "markdown",
   "id": "185c5047",
   "metadata": {},
   "source": [
    "# 3. Noisy Simulation"
   ]
  },
  {
   "cell_type": "code",
   "execution_count": 5,
   "id": "60d6989e",
   "metadata": {},
   "outputs": [],
   "source": [
    "# define noise model\n",
    "custom_noise = NoiseModel()\n",
    "p_two = 0.01    # probability of depolarizing noise on two-qubit gates\n",
    "p_single = 0.002    # probability of depolarizing noise on one-qubit gates\n",
    "\n",
    "# choose a native gate set in which the circuits will be compiled:\n",
    "native_gates = ['rx', 'ry', 'rz', 'cx']\n",
    "\n",
    "# add noise to the gates:\n",
    "custom_noise.add_all_qubit_quantum_error(depolarizing_error(p_single, 1), ['rx', 'ry', 'rz'])\n",
    "custom_noise.add_all_qubit_quantum_error(depolarizing_error(p_two, 2), 'cx')\n",
    "\n",
    "# run noisy simulation:\n",
    "number_shots = 100\n",
    "noisy_data = noisy_simulation(noisy_circuits, number_qubits, number_shots, number_samples, lengths, noise_model=custom_noise, gateset=native_gates)"
   ]
  },
  {
   "cell_type": "code",
   "execution_count": 6,
   "id": "3c131ab5-4ee2-40b5-b6d6-b321426f2120",
   "metadata": {},
   "outputs": [],
   "source": [
    "# optional: save the noisy simulation output data for later use\n",
    "with open('unitary_noise_output_data.npy', 'wb') as f:\n",
    "    np.save(f, noisy_data)\n",
    "\n",
    "\n",
    "# this is how data that was saved can be retrieved:\n",
    "# with open('unitary_noise_output_data.npy', 'rb') as f:\n",
    "#     noisy_data = np.load(f)"
   ]
  },
  {
   "cell_type": "markdown",
   "id": "f139d70d",
   "metadata": {},
   "source": [
    "# 4. Post-processing: Unitary Noise Optimization"
   ]
  },
  {
   "cell_type": "markdown",
   "id": "14d741a9",
   "metadata": {},
   "source": [
    "## 4.1 Create Plots"
   ]
  },
  {
   "cell_type": "code",
   "execution_count": null,
   "id": "843cf836-cc46-4b1d-be40-28c11b84e896",
   "metadata": {},
   "outputs": [],
   "source": [
    "# set N and K for the median-of-means estimation\n",
    "# N*K needs to equal number_samples\n",
    "N = 200\n",
    "K = 5\n",
    "\n",
    "# get explicit projection matrix. For multi-qubit Clifford protocol: only one projection, onto the traceless subspace\n",
    "proj_traceless = get_projection_matrices('multi')\n",
    "\n",
    "# set angles for the \"sweep plot\":\n",
    "params2 = np.arange(0, 0.16, 0.01).tolist()     # angles 0, 0.01, 0.02, ..., 0.15\n",
    "params1 = np.arange(0, 0.16, 0.01).tolist()\n",
    "\n",
    "# choose a subset of angles for which the decay should be plotted as well\n",
    "# (as a list of tuples giving the indices for params1 and params2)\n",
    "params_to_plot = [[7, 13], [5,9], [3,5], [1,1]]\n",
    "\n",
    "# this function calculates generalized fidelities for all combinations of parameters params1, params2,\n",
    "# plots them as a heatmap, and plots individual curves of the correlators k(m) for the values given in params_to_plot\n",
    "get_sweep_plot(ZZ, params1, params2, ptms, noisy_data, number_qubits, number_samples, N, K, lengths, params_to_plot, save=True)"
   ]
  },
  {
   "cell_type": "markdown",
   "id": "a6cc15b3",
   "metadata": {},
   "source": [
    "## 4.2 Perform Nelder-Mead Optimization"
   ]
  },
  {
   "cell_type": "code",
   "execution_count": null,
   "id": "08384ddc",
   "metadata": {},
   "outputs": [],
   "source": [
    "# define unitary noise ansatz:\n",
    "def ZZ(theta1, theta2):\n",
    "    \n",
    "    unitary_noise = np.array([[np.exp(1j/2*(-theta2 - theta1)), 0, 0, 0],\n",
    "            [0, np.exp(1j/2*(-theta2 + theta1)), 0, 0],\n",
    "            [0, 0, np.exp(1j/2*(theta2 - theta1)), 0],\n",
    "            [0, 0, 0, np.exp(1j/2*(theta2 + theta1))]])\n",
    "    \n",
    "    return unitary_noise\n",
    "\n",
    "# median-of-means parameters:\n",
    "N = 200\n",
    "K = 5\n",
    "\n",
    "# this function performs the optimization and saves all steps in \"nelder_mead_path.txt\"\n",
    "nelder_mead_optimization(ZZ, ptms, noisy_data, number_qubits, number_samples, N, K, lengths)"
   ]
  }
 ],
 "metadata": {
  "interpreter": {
   "hash": "919f2b13dfd7bbb53eef291199755160d62c713e250bb200da11993a1d227a21"
  },
  "kernelspec": {
   "display_name": "Python 3.9.12 ('sequence-shadows-lAJeiiK1-py3.9')",
   "language": "python",
   "name": "python3"
  },
  "language_info": {
   "codemirror_mode": {
    "name": "ipython",
    "version": 3
   },
   "file_extension": ".py",
   "mimetype": "text/x-python",
   "name": "python",
   "nbconvert_exporter": "python",
   "pygments_lexer": "ipython3",
   "version": "3.9.12"
  }
 },
 "nbformat": 4,
 "nbformat_minor": 5
}
